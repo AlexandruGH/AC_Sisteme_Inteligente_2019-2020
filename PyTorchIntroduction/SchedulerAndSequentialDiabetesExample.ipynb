{
  "nbformat": 4,
  "nbformat_minor": 0,
  "metadata": {
    "colab": {
      "name": "SchedulerAndSequentialDiabetesExample.ipynb",
      "provenance": [],
      "collapsed_sections": []
    },
    "kernelspec": {
      "name": "python3",
      "display_name": "Python 3"
    },
    "accelerator": "GPU"
  },
  "cells": [
    {
      "cell_type": "code",
      "metadata": {
        "id": "qnVLqgJPKZYn",
        "colab_type": "code",
        "colab": {}
      },
      "source": [
        "from torch.utils.data import Dataset, DataLoader\n",
        "from torch import nn, from_numpy, optim\n",
        "import numpy as np\n",
        "#pandas- librărie pentru lucrul cu fișierele\n",
        "import pandas as pd\n",
        "import torch\n",
        "import torch.nn as nn"
      ],
      "execution_count": 0,
      "outputs": []
    },
    {
      "cell_type": "code",
      "metadata": {
        "id": "XoINPLfdmvGM",
        "colab_type": "code",
        "colab": {}
      },
      "source": [
        "df=pd.read_csv(\"/content/diabetes.csv\",header=None)"
      ],
      "execution_count": 0,
      "outputs": []
    },
    {
      "cell_type": "code",
      "metadata": {
        "id": "fGjK2mEym5gP",
        "colab_type": "code",
        "colab": {}
      },
      "source": [
        "df.values"
      ],
      "execution_count": 0,
      "outputs": []
    },
    {
      "cell_type": "code",
      "metadata": {
        "id": "QVMR_ijqKj-r",
        "colab_type": "code",
        "colab": {}
      },
      "source": [
        "#Dataset - o clasă din PyTorch foarte utilă gestionării seturilor de date\n",
        "class DiabetesDataset(Dataset):\n",
        "    \"\"\" Diabetes dataset.\"\"\"\n",
        "    # Initialize your data, download, etc.\n",
        "    def __init__(self):\n",
        "        #Citim setul de date\n",
        "        df=pd.read_csv(\"/content/diabetes.csv\",header=None, dtype=np.float32)\n",
        "        xy = torch.from_numpy(df.values)\n",
        "        self.len = xy.shape[0]\n",
        "        #Vom folosi ca input toate valorile mai puțin ultima coloană\n",
        "        self.x_data = xy[:, 0:-1]\n",
        "        #Vom folosi ca output ultima coloană\n",
        "        self.y_data = xy[:, [-1]]\n",
        "\n",
        "    def __getitem__(self, index):\n",
        "        return self.x_data[index], self.y_data[index]\n",
        "\n",
        "    def __len__(self):\n",
        "        return self.len"
      ],
      "execution_count": 0,
      "outputs": []
    },
    {
      "cell_type": "code",
      "metadata": {
        "id": "hVWrVEUMKkBU",
        "colab_type": "code",
        "colab": {}
      },
      "source": [
        "dataset = DiabetesDataset()\n",
        "#DataLoader - un utilitar ce ne ajută să împărțim setul de date pe batch-uri și astfel să facem antrenare în mod Mini-Batch\n",
        "train_loader = DataLoader(dataset=dataset,\n",
        "                          batch_size=32,\n",
        "                          shuffle=True,\n",
        "                          num_workers=1)"
      ],
      "execution_count": 0,
      "outputs": []
    },
    {
      "cell_type": "code",
      "metadata": {
        "id": "44aFZMd_KkC_",
        "colab_type": "code",
        "colab": {}
      },
      "source": [
        "dataset[0]"
      ],
      "execution_count": 0,
      "outputs": []
    },
    {
      "cell_type": "code",
      "metadata": {
        "id": "07jL_JLEKkF6",
        "colab_type": "code",
        "colab": {}
      },
      "source": [
        "class Model(nn.Module):\n",
        "\n",
        "    def __init__(self):\n",
        "        \"\"\"\n",
        "        In the constructor we instantiate two nn.Linear module\n",
        "        \"\"\"\n",
        "        super(Model, self).__init__()\n",
        "        self.l1 = nn.Linear(8, 6)\n",
        "        self.l2 = nn.Linear(6, 4)\n",
        "        self.l3 = nn.Linear(4, 1)\n",
        "\n",
        "        self.sigmoid = nn.Sigmoid()\n",
        "\n",
        "    def forward(self, x):\n",
        "        \"\"\"\n",
        "        In the forward function we accept a Variable of input data and we must return\n",
        "        a Variable of output data. We can use Modules defined in the constructor as\n",
        "        well as arbitrary operators on Variables.\n",
        "        \"\"\"\n",
        "        out1 = self.sigmoid(self.l1(x))\n",
        "        out2 = self.sigmoid(self.l2(out1))\n",
        "        y_pred = self.sigmoid(self.l3(out2))\n",
        "        return y_pred"
      ],
      "execution_count": 0,
      "outputs": []
    },
    {
      "cell_type": "markdown",
      "metadata": {
        "id": "GMju8jMRs5Na",
        "colab_type": "text"
      },
      "source": [
        "Pentru o scriere și înțelegere mai ușoară a rețelei neurale putem folosi modulul nn.Sequential. Practic acesta realizează același lucru oferind o scriere a codului mult mai compactă.\n",
        "Exemplu mai jos."
      ]
    },
    {
      "cell_type": "code",
      "metadata": {
        "id": "6k7bD66psdcT",
        "colab_type": "code",
        "colab": {}
      },
      "source": [
        "\n",
        "class Model(nn.Module):\n",
        "\n",
        "    def __init__(self):\n",
        "        \"\"\"\n",
        "        Dat fiind faptul că \n",
        "        \"\"\"\n",
        "        super(Model, self).__init__()\n",
        "\n",
        "        #Practic toate functiile liniare și non-liniare realizează o secvență a flowlui de date\n",
        "        self.sequential=nn.Sequential(\n",
        "            nn.Linear(8,6),\n",
        "            nn.ReLU(),\n",
        "            nn.Linear(6,4),\n",
        "            nn.ReLU(),\n",
        "            nn.Linear(4,1),\n",
        "            nn.Sigmoid()\n",
        "        )\n",
        "\n",
        "    def forward(self, x):\n",
        "        return self.sequential(x)"
      ],
      "execution_count": 0,
      "outputs": []
    },
    {
      "cell_type": "code",
      "metadata": {
        "id": "cWeFa6ZzKkH3",
        "colab_type": "code",
        "colab": {}
      },
      "source": [
        "model=Model()"
      ],
      "execution_count": 0,
      "outputs": []
    },
    {
      "cell_type": "code",
      "metadata": {
        "id": "QHWknpAvKkKj",
        "colab_type": "code",
        "colab": {}
      },
      "source": [
        "criterion = nn.BCELoss(reduction='sum')\n",
        "optimizer = optim.SGD(model.parameters(), lr=0.1)\n",
        "scheduler = optim.lr_scheduler.ReduceLROnPlateau(optimizer, patience=5, verbose=True)"
      ],
      "execution_count": 0,
      "outputs": []
    },
    {
      "cell_type": "code",
      "metadata": {
        "id": "THRIbzCKKkNI",
        "colab_type": "code",
        "colab": {}
      },
      "source": [
        "# Training loop\n",
        "for epoch in range(200):\n",
        "  #Aplicăm modificarea de learning rate per epocă, deci va trebui să avem un istoric al loss-ului\n",
        "  losses=[]\n",
        "  for i, data in enumerate(train_loader, 0):\n",
        "      # get the inputs\n",
        "      inputs, labels = data\n",
        "\n",
        "      # Forward pass: Compute predicted y by passing x to the model\n",
        "      y_pred = model(inputs)\n",
        "\n",
        "      # Compute and print loss\n",
        "      loss = criterion(y_pred, labels)\n",
        "      print(f'Epoch {epoch + 1} | Batch: {i+1} | Loss: {loss.item():.4f}')\n",
        "      losses.append(loss.item())\n",
        "      # Zero gradients, perform a backward pass, and update the weights.\n",
        "      optimizer.zero_grad()\n",
        "      loss.backward()\n",
        "      optimizer.step()\n",
        "  mean_loss=sum(losses)/len(losses)\n",
        "  scheduler.step(mean_loss)"
      ],
      "execution_count": 0,
      "outputs": []
    },
    {
      "cell_type": "code",
      "metadata": {
        "id": "njl2IFOYKkUk",
        "colab_type": "code",
        "colab": {}
      },
      "source": [
        ""
      ],
      "execution_count": 0,
      "outputs": []
    },
    {
      "cell_type": "code",
      "metadata": {
        "id": "vCEVG-2nKkXB",
        "colab_type": "code",
        "colab": {}
      },
      "source": [
        ""
      ],
      "execution_count": 0,
      "outputs": []
    },
    {
      "cell_type": "code",
      "metadata": {
        "id": "EfQIH8ODKkZ6",
        "colab_type": "code",
        "colab": {}
      },
      "source": [
        ""
      ],
      "execution_count": 0,
      "outputs": []
    },
    {
      "cell_type": "code",
      "metadata": {
        "id": "o5WciYowKkb6",
        "colab_type": "code",
        "colab": {}
      },
      "source": [
        ""
      ],
      "execution_count": 0,
      "outputs": []
    },
    {
      "cell_type": "code",
      "metadata": {
        "id": "cBPgswFWKke1",
        "colab_type": "code",
        "colab": {}
      },
      "source": [
        ""
      ],
      "execution_count": 0,
      "outputs": []
    },
    {
      "cell_type": "code",
      "metadata": {
        "id": "7yajmAIpKkhH",
        "colab_type": "code",
        "colab": {}
      },
      "source": [
        ""
      ],
      "execution_count": 0,
      "outputs": []
    },
    {
      "cell_type": "code",
      "metadata": {
        "id": "VLCBbLsmKklV",
        "colab_type": "code",
        "colab": {}
      },
      "source": [
        ""
      ],
      "execution_count": 0,
      "outputs": []
    }
  ]
}