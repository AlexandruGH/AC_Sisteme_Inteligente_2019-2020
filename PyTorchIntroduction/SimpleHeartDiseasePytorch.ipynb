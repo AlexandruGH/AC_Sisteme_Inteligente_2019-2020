{
  "nbformat": 4,
  "nbformat_minor": 0,
  "metadata": {
    "kernelspec": {
      "language": "python",
      "display_name": "Python 3",
      "name": "python3"
    },
    "language_info": {
      "pygments_lexer": "ipython3",
      "nbconvert_exporter": "python",
      "version": "3.6.4",
      "file_extension": ".py",
      "codemirror_mode": {
        "name": "ipython",
        "version": 3
      },
      "name": "python",
      "mimetype": "text/x-python"
    },
    "colab": {
      "name": "SimpleHeartDiseasePytorch.ipynb",
      "provenance": []
    }
  },
  "cells": [
    {
      "cell_type": "code",
      "metadata": {
        "_uuid": "8f2839f25d086af736a60e9eeb907d3b93b6e0e5",
        "_cell_guid": "b1076dfc-b9ad-4769-8c92-a6c4dae69d19",
        "trusted": true,
        "id": "tVm68ThnfSQw",
        "colab_type": "code",
        "colab": {}
      },
      "source": [
        "# This Python 3 environment comes with many helpful analytics libraries installed\n",
        "# It is defined by the kaggle/python docker image: https://github.com/kaggle/docker-python\n",
        "# For example, here's several helpful packages to load in \n",
        "\n",
        "import numpy as np # linear algebra\n",
        "import pandas as pd # data processing, CSV file I/O (e.g. pd.read_csv)\n",
        "\n",
        "# Input data files are available in the \"../input/\" directory.\n",
        "# For example, running this (by clicking run or pressing Shift+Enter) will list all files under the input directory\n",
        "\n",
        "# Any results you write to the current directory are saved as output."
      ],
      "execution_count": 0,
      "outputs": []
    },
    {
      "cell_type": "code",
      "metadata": {
        "_uuid": "d629ff2d2480ee46fbb7e2d37f6b5fab8052498a",
        "_cell_guid": "79c7e3d0-c299-4dcb-8224-4455121ee9b0",
        "trusted": true,
        "id": "DKMMh-YnfSQ_",
        "colab_type": "code",
        "colab": {}
      },
      "source": [
        "#matplotlib este folosit pentru a realiza grafice\n",
        "import matplotlib.pyplot as plt\n",
        "plt.style.use(\"ggplot\")"
      ],
      "execution_count": 0,
      "outputs": []
    },
    {
      "cell_type": "code",
      "metadata": {
        "trusted": true,
        "id": "XytQWckMfSRK",
        "colab_type": "code",
        "colab": {}
      },
      "source": [
        "df = pd.read_csv(\"/content/heart.csv\")"
      ],
      "execution_count": 0,
      "outputs": []
    },
    {
      "cell_type": "code",
      "metadata": {
        "trusted": true,
        "id": "ph1yGMQAfSRS",
        "colab_type": "code",
        "colab": {}
      },
      "source": [
        "df.head()"
      ],
      "execution_count": 0,
      "outputs": []
    },
    {
      "cell_type": "code",
      "metadata": {
        "id": "5E3uQ9iBjyAM",
        "colab_type": "code",
        "colab": {}
      },
      "source": [
        ""
      ],
      "execution_count": 0,
      "outputs": []
    },
    {
      "cell_type": "markdown",
      "metadata": {
        "id": "8sJigmCckL9c",
        "colab_type": "text"
      },
      "source": [
        "pandas_profiling - o librărie ce oferă o analiză automată a setului de date: distributii, tipuri de variabile, valori și o serie intreaga de informatii aditionale.\n",
        "Pentru a o putea folosi trebuie să ștergem libraria default din colab și să instalăm o versiune specifică. \n",
        "După instalare trebuie să facem restart la runtime."
      ]
    },
    {
      "cell_type": "code",
      "metadata": {
        "id": "6qOnV1ewYzpu",
        "colab_type": "code",
        "colab": {}
      },
      "source": [
        "!pip uninstall pandas-profiling"
      ],
      "execution_count": 0,
      "outputs": []
    },
    {
      "cell_type": "code",
      "metadata": {
        "id": "f7NHkKyBXOX8",
        "colab_type": "code",
        "colab": {}
      },
      "source": [
        "!pip install pandas-profiling==2.7.1"
      ],
      "execution_count": 0,
      "outputs": []
    },
    {
      "cell_type": "code",
      "metadata": {
        "id": "ntTgqB42XRSl",
        "colab_type": "code",
        "colab": {}
      },
      "source": [
        "from pandas_profiling import ProfileReport"
      ],
      "execution_count": 0,
      "outputs": []
    },
    {
      "cell_type": "code",
      "metadata": {
        "id": "C2hBghqyXR9G",
        "colab_type": "code",
        "colab": {}
      },
      "source": [
        "prof=ProfileReport(df)"
      ],
      "execution_count": 0,
      "outputs": []
    },
    {
      "cell_type": "code",
      "metadata": {
        "id": "E3bhlEFcWvKN",
        "colab_type": "code",
        "colab": {}
      },
      "source": [
        "#Statisticile pot fi salvate În format html\n",
        "prof.to_file(output_file='/content/output.html')"
      ],
      "execution_count": 0,
      "outputs": []
    },
    {
      "cell_type": "code",
      "metadata": {
        "id": "5okLNZ-NV4HG",
        "colab_type": "code",
        "colab": {}
      },
      "source": [
        "prof"
      ],
      "execution_count": 0,
      "outputs": []
    },
    {
      "cell_type": "code",
      "metadata": {
        "id": "lS4D1RFvcQsk",
        "colab_type": "code",
        "colab": {}
      },
      "source": [
        "#Pentru seturi de date mari este indicat să folosim versiunea minimală a librăriei\n",
        "prof=ProfileReport(df,minimal=True)"
      ],
      "execution_count": 0,
      "outputs": []
    },
    {
      "cell_type": "code",
      "metadata": {
        "id": "cshaUY4VcUKC",
        "colab_type": "code",
        "colab": {}
      },
      "source": [
        "prof.to_file(output_file='/content/output-min.html')"
      ],
      "execution_count": 0,
      "outputs": []
    },
    {
      "cell_type": "code",
      "metadata": {
        "id": "UbnJVh7JcX1m",
        "colab_type": "code",
        "colab": {}
      },
      "source": [
        "prof"
      ],
      "execution_count": 0,
      "outputs": []
    },
    {
      "cell_type": "code",
      "metadata": {
        "trusted": true,
        "id": "W_UUlJ8KfSRZ",
        "colab_type": "code",
        "colab": {}
      },
      "source": [
        "#Selectăm datele de intrare in retea eliminand ultima coloană din csv\n",
        "X = df.drop(\"target\", axis=1)\n",
        "#obținem etichetele pentru date salvand ultima coloana\n",
        "y = df['target']"
      ],
      "execution_count": 0,
      "outputs": []
    },
    {
      "cell_type": "code",
      "metadata": {
        "trusted": true,
        "id": "V-Cg9ewufSRh",
        "colab_type": "code",
        "colab": {}
      },
      "source": [
        "#folosim o functie din sklearn ce creaza seturi de date pentru antrenare si validare\n",
        "from sklearn.model_selection import train_test_split"
      ],
      "execution_count": 0,
      "outputs": []
    },
    {
      "cell_type": "code",
      "metadata": {
        "trusted": true,
        "id": "VzSoXozDfSRp",
        "colab_type": "code",
        "colab": {}
      },
      "source": [
        "#primim ca output seturile de date corespunzatoare.\n",
        "#Test size ne spune cat de mare procentual sa avem setul de validare\n",
        "X_train, X_test, y_train, y_test = train_test_split(X, y, test_size=0.2, shuffle=True)"
      ],
      "execution_count": 0,
      "outputs": []
    },
    {
      "cell_type": "code",
      "metadata": {
        "id": "oJHOFiIKjuhm",
        "colab_type": "code",
        "colab": {}
      },
      "source": [
        "#Verificam distributia etichetelor de 0 si 1.\n",
        "#Suma etichetelor ne da numarul de intrari cu 1.\n",
        "#Ideal ar trebui sa avem o distributie echilibrata intre cele 2 valori\n",
        "sum(y_train), len(y_train)"
      ],
      "execution_count": 0,
      "outputs": []
    },
    {
      "cell_type": "code",
      "metadata": {
        "id": "xlqD0qTQjuj8",
        "colab_type": "code",
        "colab": {}
      },
      "source": [
        "sum(y_test), len(y_test)"
      ],
      "execution_count": 0,
      "outputs": []
    },
    {
      "cell_type": "code",
      "metadata": {
        "id": "gNbCkEgrjumv",
        "colab_type": "code",
        "colab": {}
      },
      "source": [
        ""
      ],
      "execution_count": 0,
      "outputs": []
    },
    {
      "cell_type": "code",
      "metadata": {
        "id": "9rEU0qmIjupE",
        "colab_type": "code",
        "colab": {}
      },
      "source": [
        ""
      ],
      "execution_count": 0,
      "outputs": []
    },
    {
      "cell_type": "code",
      "metadata": {
        "trusted": true,
        "id": "_2qY5O3UfSRu",
        "colab_type": "code",
        "colab": {}
      },
      "source": [
        "#Pentru normalizarea datelor folosim MinMaxScaler din sklearn\n",
        "from sklearn.preprocessing import MinMaxScaler"
      ],
      "execution_count": 0,
      "outputs": []
    },
    {
      "cell_type": "code",
      "metadata": {
        "id": "4bfdh7k1s8lz",
        "colab_type": "code",
        "colab": {}
      },
      "source": [
        "X_train"
      ],
      "execution_count": 0,
      "outputs": []
    },
    {
      "cell_type": "code",
      "metadata": {
        "id": "U6UTX8sttBPn",
        "colab_type": "code",
        "colab": {}
      },
      "source": [
        "y_train"
      ],
      "execution_count": 0,
      "outputs": []
    },
    {
      "cell_type": "code",
      "metadata": {
        "trusted": true,
        "id": "-CTwxoWZfSRy",
        "colab_type": "code",
        "colab": {}
      },
      "source": [
        "# Functia va translata fiecare feature in parte in intervalul (-1,1)\n",
        "# Funcția practic relizează următoarele\n",
        "# X_std = (X - X.min(axis=0)) / (X.max(axis=0) - X.min(axis=0))\n",
        "# X_scaled = X_std * (max - min) + min\n",
        "\n",
        "\n",
        "sc = MinMaxScaler((-1, 1))"
      ],
      "execution_count": 0,
      "outputs": []
    },
    {
      "cell_type": "code",
      "metadata": {
        "trusted": true,
        "id": "DeLHff3CfSR3",
        "colab_type": "code",
        "colab": {}
      },
      "source": [
        "X_train = sc.fit_transform(X_train)\n",
        "X_test = sc.transform(X_test)"
      ],
      "execution_count": 0,
      "outputs": []
    },
    {
      "cell_type": "code",
      "metadata": {
        "trusted": true,
        "id": "dEqnXDHmfSR9",
        "colab_type": "code",
        "colab": {}
      },
      "source": [
        "X_test"
      ],
      "execution_count": 0,
      "outputs": []
    },
    {
      "cell_type": "code",
      "metadata": {
        "trusted": true,
        "id": "xa9U77VcfSSE",
        "colab_type": "code",
        "colab": {}
      },
      "source": [
        ""
      ],
      "execution_count": 0,
      "outputs": []
    },
    {
      "cell_type": "code",
      "metadata": {
        "trusted": true,
        "id": "JqEBq7LAfSSK",
        "colab_type": "code",
        "colab": {}
      },
      "source": [
        ""
      ],
      "execution_count": 0,
      "outputs": []
    },
    {
      "cell_type": "code",
      "metadata": {
        "trusted": true,
        "id": "kMSDboU8fSSQ",
        "colab_type": "code",
        "colab": {}
      },
      "source": [
        "import torch\n",
        "from torch import nn, optim"
      ],
      "execution_count": 0,
      "outputs": []
    },
    {
      "cell_type": "code",
      "metadata": {
        "trusted": true,
        "id": "8CBOO0C3fSSV",
        "colab_type": "code",
        "colab": {}
      },
      "source": [
        "X_train.shape"
      ],
      "execution_count": 0,
      "outputs": []
    },
    {
      "cell_type": "code",
      "metadata": {
        "trusted": true,
        "id": "8MPgMngsfSSa",
        "colab_type": "code",
        "colab": {}
      },
      "source": [
        "y_train.shape"
      ],
      "execution_count": 0,
      "outputs": []
    },
    {
      "cell_type": "code",
      "metadata": {
        "id": "jZv_HSpDtU2v",
        "colab_type": "code",
        "colab": {}
      },
      "source": [
        "X_test.shape"
      ],
      "execution_count": 0,
      "outputs": []
    },
    {
      "cell_type": "code",
      "metadata": {
        "trusted": true,
        "id": "cE4YqjFxfSSg",
        "colab_type": "code",
        "colab": {}
      },
      "source": [
        "X_train = torch.tensor(X_train).float()\n",
        "X_test = torch.tensor(X_test).float()\n",
        "y_train = torch.tensor(y_train.values).long()\n",
        "y_test = torch.tensor(y_test.values).long()"
      ],
      "execution_count": 0,
      "outputs": []
    },
    {
      "cell_type": "code",
      "metadata": {
        "id": "dBgAcgm6uD9v",
        "colab_type": "code",
        "colab": {}
      },
      "source": [
        ""
      ],
      "execution_count": 0,
      "outputs": []
    },
    {
      "cell_type": "code",
      "metadata": {
        "id": "oPIV0ruYuECM",
        "colab_type": "code",
        "colab": {}
      },
      "source": [
        ""
      ],
      "execution_count": 0,
      "outputs": []
    },
    {
      "cell_type": "code",
      "metadata": {
        "trusted": true,
        "id": "nQjv5QsKfSSk",
        "colab_type": "code",
        "colab": {}
      },
      "source": [
        "class HeartDiseaseNN(nn.Module):\n",
        "    def __init__(self):\n",
        "        super(HeartDiseaseNN, self).__init__()\n",
        "\n",
        "        #Sequential oferă o alternativă mai estetică a codului\n",
        "        #Rețeaua noastră are 2 neuroni pentru output. \n",
        "        #Unul va prezice probabilitatea pentru cazul afirmativ al bolii, iar celălalt va prezice probabilitatea cazului negativ al bolii.\n",
        "        self.sequential= nn.Sequential(\n",
        "            nn.Linear(13,100),\n",
        "            nn.ReLU(),\n",
        "            nn.Linear(100, 60),\n",
        "            nn.ReLU(),\n",
        "            nn.Linear(60, 2)\n",
        "        )\n",
        "\n",
        "\n",
        "    def forward(self, x):\n",
        "        return self.sequential(x)"
      ],
      "execution_count": 0,
      "outputs": []
    },
    {
      "cell_type": "code",
      "metadata": {
        "trusted": true,
        "id": "qI_tjxPWfSSn",
        "colab_type": "code",
        "colab": {}
      },
      "source": [
        "net = HeartDiseaseNN()"
      ],
      "execution_count": 0,
      "outputs": []
    },
    {
      "cell_type": "code",
      "metadata": {
        "trusted": true,
        "id": "eI80PhVafSSt",
        "colab_type": "code",
        "colab": {}
      },
      "source": [
        "optimizer = optim.SGD(net.parameters(), lr=0.01)\n",
        "# CrossEntropyLoss este folosit adeseori in problemele de clasificare\n",
        "# Acesta este compus din functia SoftMax și NLLLoss\n",
        "# Softmax - Mapează elementele din Tensor in intervalul [0,1] și face ca suma lor să fie 1. O functie foarte utilă atunci cand vrem sa calculam probabilitati dintr-un Tensor.\n",
        "# NLLLoss - negative log likelihood loss, functie folosită adeseori in problemele de clasificare\n",
        "criterion = nn.CrossEntropyLoss()"
      ],
      "execution_count": 0,
      "outputs": []
    },
    {
      "cell_type": "code",
      "metadata": {
        "trusted": true,
        "id": "RaqzqBOcfSSx",
        "colab_type": "code",
        "colab": {}
      },
      "source": [
        "#Colectăm loss-urile din antrenare pentru a le plota ulterior\n",
        "losses = []"
      ],
      "execution_count": 0,
      "outputs": []
    },
    {
      "cell_type": "code",
      "metadata": {
        "trusted": true,
        "id": "7qt8b44MfSS3",
        "colab_type": "code",
        "colab": {}
      },
      "source": [
        "# Colectăm accuratetea pentru a o plota ulterior\n",
        "accuracies=[]"
      ],
      "execution_count": 0,
      "outputs": []
    },
    {
      "cell_type": "code",
      "metadata": {
        "id": "-2779h43uwuO",
        "colab_type": "code",
        "colab": {}
      },
      "source": [
        "from sklearn.metrics import accuracy_score"
      ],
      "execution_count": 0,
      "outputs": []
    },
    {
      "cell_type": "code",
      "metadata": {
        "trusted": true,
        "id": "K_woyjjffSTA",
        "colab_type": "code",
        "colab": {}
      },
      "source": [
        "# Training loop\n",
        "def train(epoch):\n",
        "    # Setează câteva flaguri în rețeaua neurală. Specific activează Dropout-ul și BatchNormalization dacă este cazul.\n",
        "    # În exemplul nostru are un rol pur demonstrativ, nefiind necesar.\n",
        "    net.train()\n",
        "\n",
        "    #Obținem predictii\n",
        "    outputs = net(X_train)\n",
        "    # Compute and print loss\n",
        "    loss = criterion(outputs, y_train)\n",
        "    \n",
        "    losses.append(loss.item())\n",
        "    # Zero gradients, perform a backward pass, and update the weights.\n",
        "    optimizer.zero_grad()\n",
        "    loss.backward()\n",
        "    optimizer.step()\n",
        "    print(f\"Train Epoch: {epoch} Loss:{loss.item()}\")"
      ],
      "execution_count": 0,
      "outputs": []
    },
    {
      "cell_type": "code",
      "metadata": {
        "id": "pNNf-W4shrIH",
        "colab_type": "code",
        "colab": {}
      },
      "source": [
        "# Colectăm loss-ul din validare pentru a o plota ulterior\n",
        "test_losses=[]"
      ],
      "execution_count": 0,
      "outputs": []
    },
    {
      "cell_type": "code",
      "metadata": {
        "trusted": true,
        "id": "8by5McSEfSTF",
        "colab_type": "code",
        "colab": {}
      },
      "source": [
        "def validation():\n",
        "    #Pune pe off flagurile setate in model.train()\n",
        "    #Din nou, în exemplul nostru e pur demonstrativ.\n",
        "    net.eval()\n",
        "\n",
        "    test_loss=0\n",
        "    correct = 0\n",
        "\n",
        "    with torch.no_grad():\n",
        "\n",
        "        output=net(X_test)\n",
        "\n",
        "        test_loss= criterion(output, y_test)\n",
        "        test_losses.append(test_loss.item())\n",
        "\n",
        "        #Obținem predictiile pentru fiecare linie din setul de validare.\n",
        "        #Practic ne returnează rezultatul cu cea mai mare probabilitate pentru fiecare intrare din setul de validare \n",
        "        pred = output.data.max(1, keepdim=True)[1]\n",
        "\n",
        "        #Verificăm câte predicții sunt corecte și le însumăm numărul pentru a afla totalul de predicții corecte\n",
        "        #correct += pred.eq(y_test.data.view_as(pred)).sum()\n",
        "        #O altă functie din sklearn ne poate ajuta să abstractizăm operatia de mai sus.\n",
        "\n",
        "        accuracy = accuracy_score(y_test, pred)\n",
        "        \n",
        "        print(\"============\")\n",
        "        print(f\"[Validation set] Average loss: {test_loss}, Accuracy: {100 * accuracy}%\")\n",
        "        print(\"============\")\n",
        "\n",
        "        accuracies.append(accuracy)\n"
      ],
      "execution_count": 0,
      "outputs": []
    },
    {
      "cell_type": "code",
      "metadata": {
        "trusted": true,
        "id": "wuyLaJgafSTJ",
        "colab_type": "code",
        "colab": {}
      },
      "source": [
        "#după fiecare epocă de train() verificăm rezultatele pe setul de validare\n",
        "for epoch in range(10000):\n",
        "  train(epoch)\n",
        "  validation()"
      ],
      "execution_count": 0,
      "outputs": []
    },
    {
      "cell_type": "code",
      "metadata": {
        "id": "CNO72JVEjVy1",
        "colab_type": "code",
        "colab": {}
      },
      "source": [
        "# Printăm comparativ cu roșu loss-ul de pe setul de validare și cu albastru loss-ul de pe setul de validare.\n",
        "plt.plot(losses, \"r-\", test_losses, \"b-\")"
      ],
      "execution_count": 0,
      "outputs": []
    },
    {
      "cell_type": "code",
      "metadata": {
        "id": "iJk5Y0GatLMr",
        "colab_type": "code",
        "colab": {}
      },
      "source": [
        "plt.plot(accuracies)"
      ],
      "execution_count": 0,
      "outputs": []
    },
    {
      "cell_type": "code",
      "metadata": {
        "trusted": true,
        "id": "a9oNbLYZfSTU",
        "colab_type": "code",
        "colab": {}
      },
      "source": [
        "def try_a_single_example_with_the_network(index_from_the_validation_set):\n",
        "  with torch.no_grad():\n",
        "    pred_test = net(X_test[index_from_the_validation_set].view(1, -1))\n",
        "    _, preds_y = torch.max(pred_test, 1)\n",
        "    print(preds_y)"
      ],
      "execution_count": 0,
      "outputs": []
    },
    {
      "cell_type": "code",
      "metadata": {
        "id": "UnsqqEqMuI67",
        "colab_type": "code",
        "colab": {}
      },
      "source": [
        "try_a_single_example_with_the_network(60)"
      ],
      "execution_count": 0,
      "outputs": []
    },
    {
      "cell_type": "code",
      "metadata": {
        "id": "pVbvWrE2uI9q",
        "colab_type": "code",
        "colab": {}
      },
      "source": [
        ""
      ],
      "execution_count": 0,
      "outputs": []
    },
    {
      "cell_type": "code",
      "metadata": {
        "trusted": true,
        "id": "UwjpjFuifSTi",
        "colab_type": "code",
        "colab": {}
      },
      "source": [
        ""
      ],
      "execution_count": 0,
      "outputs": []
    }
  ]
}